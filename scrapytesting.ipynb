{
  "nbformat": 4,
  "nbformat_minor": 0,
  "metadata": {
    "colab": {
      "name": "scrapytesting.ipynb",
      "version": "0.3.2",
      "provenance": [],
      "include_colab_link": true
    },
    "kernelspec": {
      "name": "python3",
      "display_name": "Python 3"
    }
  },
  "cells": [
    {
      "cell_type": "markdown",
      "metadata": {
        "id": "view-in-github",
        "colab_type": "text"
      },
      "source": [
        "[View in Colaboratory](https://colab.research.google.com/github/nijasnazar33/scrapytest/blob/master/scrapytesting.ipynb)"
      ]
    },
    {
      "metadata": {
        "id": "vTpwLcAtbIlR",
        "colab_type": "code",
        "colab": {}
      },
      "cell_type": "code",
      "source": [
        "import scrapy\n",
        "\n",
        "class BlogSpider(scrapy.Spider):\n",
        "    name = 'blogspider'\n",
        "    start_urls = ['https://blog.scrapinghub.com']\n",
        "\n",
        "    def parse(self, response):\n",
        "        for title in response.css('.post-header>h2'):\n",
        "            yield {'title': title.css('a ::text').extract_first()}\n",
        "\n",
        "        for next_page in response.css('div.prev-post > a'):\n",
        "            yield response.follow(next_page, self.parse)"
      ],
      "execution_count": 0,
      "outputs": []
    }
  ]
}